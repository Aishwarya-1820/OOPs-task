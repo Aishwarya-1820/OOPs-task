{
 "cells": [
  {
   "cell_type": "markdown",
   "id": "16ac8a0d",
   "metadata": {},
   "source": [
    "Q1, Create a vehicle class with an init method having instance variables as name_of_vehicle, max_speed \n",
    "and average_of_vehicle."
   ]
  },
  {
   "cell_type": "code",
   "execution_count": 1,
   "id": "30f5eb86",
   "metadata": {},
   "outputs": [],
   "source": [
    "class vehicle:\n",
    "    def __init__(self, name_of_vehicle, max_speed, average_of_vehicle) :\n",
    "        self.name_of_vehicle = name_of_vehicle\n",
    "        self.max_speed = max_speed\n",
    "        self.average_of_vehicle = average_of_vehicle\n",
    "        \n",
    "    def vehicle_details(self):\n",
    "        print(self.name_of_vehicle, self.max_speed, self.average_of_vehicle)\n",
    "    "
   ]
  },
  {
   "cell_type": "code",
   "execution_count": 2,
   "id": "33bb517e",
   "metadata": {},
   "outputs": [],
   "source": [
    "Vehicle = vehicle(\"Innova\", 170, 12)"
   ]
  },
  {
   "cell_type": "code",
   "execution_count": 3,
   "id": "8ee9a577",
   "metadata": {},
   "outputs": [
    {
     "data": {
      "text/plain": [
       "'Innova'"
      ]
     },
     "execution_count": 3,
     "metadata": {},
     "output_type": "execute_result"
    }
   ],
   "source": [
    "Vehicle.name_of_vehicle"
   ]
  },
  {
   "cell_type": "code",
   "execution_count": 5,
   "id": "1213cbdc",
   "metadata": {},
   "outputs": [
    {
     "data": {
      "text/plain": [
       "170"
      ]
     },
     "execution_count": 5,
     "metadata": {},
     "output_type": "execute_result"
    }
   ],
   "source": [
    "Vehicle.max_speed"
   ]
  },
  {
   "cell_type": "code",
   "execution_count": 6,
   "id": "8baa9ae9",
   "metadata": {},
   "outputs": [
    {
     "data": {
      "text/plain": [
       "12"
      ]
     },
     "execution_count": 6,
     "metadata": {},
     "output_type": "execute_result"
    }
   ],
   "source": [
    "Vehicle.average_of_vehicle"
   ]
  },
  {
   "cell_type": "markdown",
   "id": "9d425c3d",
   "metadata": {},
   "source": [
    "Q2.  Create a child class car from the vehicle class created in Que 1, which will inherit the vehicle class. \n",
    "Create a method named seating_capacity which takes capacity as an argument and returns the name of \n",
    "the vehicle and its seating capacity."
   ]
  },
  {
   "cell_type": "code",
   "execution_count": 36,
   "id": "ecf6cbe4",
   "metadata": {},
   "outputs": [
    {
     "name": "stdout",
     "output_type": "stream",
     "text": [
      "Vehical_Name : Innova Speed : 170 average_of_vehicle : 12\n"
     ]
    }
   ],
   "source": [
    "class vehicle:\n",
    "    def __init__(self, name_of_vehicle, max_speed, average_of_vehicle) :\n",
    "        self.name_of_vehicle = name_of_vehicle\n",
    "        self.max_speed = max_speed\n",
    "        self.average_of_vehicle = average_of_vehicle\n",
    "        \n",
    "class car(vehicle):\n",
    "    pass\n",
    "\n",
    "\n",
    "Car = car(\"Innova\", 170, 12)\n",
    "print(\"Vehical_Name :\", Car.name_of_vehicle, \"Speed :\", Car.max_speed, \"average_of_vehicle :\", Car.average_of_vehicle) "
   ]
  },
  {
   "cell_type": "code",
   "execution_count": 42,
   "id": "b4788ae5",
   "metadata": {},
   "outputs": [
    {
     "name": "stdout",
     "output_type": "stream",
     "text": [
      "The seating capacity of a Innova is 7 passengers\n"
     ]
    }
   ],
   "source": [
    "class vehicle:\n",
    "    def __init__(self, name_of_vehicle, max_speed, average_of_vehicle) :\n",
    "        self.name_of_vehicle = name_of_vehicle\n",
    "        self.max_speed = max_speed\n",
    "        self.average_of_vehicle = average_of_vehicle\n",
    "        \n",
    "    def seating_capacity(self, capacity):\n",
    "        return f\"The seating capacity of a {self.name_of_vehicle} is {capacity} passengers\"\n",
    "    \n",
    "class car(vehicle):\n",
    "    # assign default value to capacity\n",
    "    def seating_capacity(self, capacity=7):            \n",
    "        return super().seating_capacity(capacity=7)\n",
    "\n",
    "vehicle_car = car(\"Innova\", 170, 12)\n",
    "print(vehicle_car.seating_capacity())"
   ]
  },
  {
   "cell_type": "markdown",
   "id": "52cfd5b5",
   "metadata": {},
   "source": [
    "Q3. What is multiple inheritance? Write a python code to demonstrate multiple inheritance."
   ]
  },
  {
   "cell_type": "markdown",
   "id": "29c71d3f",
   "metadata": {},
   "source": [
    "    If a child class is inheriting the properties of a single other class, we call it single inheritance. However, if a child class inherits from more than one class, i.e. this child class is derived from multiple classes, we call it mutiple inheritance in Python."
   ]
  },
  {
   "cell_type": "code",
   "execution_count": 6,
   "id": "14f02a9e",
   "metadata": {},
   "outputs": [
    {
     "name": "stdout",
     "output_type": "stream",
     "text": [
      "Dad sings well\n",
      "Mom codes well\n",
      "Kid loves to play\n"
     ]
    }
   ],
   "source": [
    "# creating class for father\n",
    "class Dad():\n",
    "    # writing a method for parent class 1\n",
    "    def singing(self):\n",
    "        print(\"Dad sings well\")\n",
    "        \n",
    "# creating a class for mother\n",
    "class Mom():\n",
    "    # method for parent class 2\n",
    "    def coding(self):\n",
    "        print(\"Mom codes well\")\n",
    "\n",
    "# creating derived class\n",
    "class Child(Dad, Mom):\n",
    "    def playing(self):\n",
    "        print(\"Kid loves to play\")\n",
    "\n",
    "# creating object of the new derived class\n",
    "child = Child()\n",
    "# calling methods of parent classes and derived class\n",
    "child.singing()\n",
    "child.coding()\n",
    "child.playing()\n"
   ]
  },
  {
   "cell_type": "markdown",
   "id": "c0fa2836",
   "metadata": {},
   "source": [
    "Q4. What are getter and setter in python? Create a class and create a getter and a setter method in this \n",
    "class."
   ]
  },
  {
   "cell_type": "markdown",
   "id": "c6373af8",
   "metadata": {},
   "source": [
    "Getter: A method that allows you to access an attribute in a given class.\n",
    "Setter: A method that allows you to set or mutate the value of an attribute in a class."
   ]
  },
  {
   "cell_type": "code",
   "execution_count": 14,
   "id": "22efc201",
   "metadata": {},
   "outputs": [
    {
     "name": "stdout",
     "output_type": "stream",
     "text": [
      "19\n",
      "19\n"
     ]
    }
   ],
   "source": [
    "class Student:   \n",
    "    def __init__(self, age = 0):   \n",
    "         self._age = age   \n",
    "            \n",
    "      # using the getter method   \n",
    "    def get_age(self):   \n",
    "        return self._age   \n",
    "    \n",
    "      # using the setter method   \n",
    "    def set_age(self, a):   \n",
    "        self._age = a   \n",
    "    \n",
    "Ram = Student()   \n",
    "    \n",
    "#using the setter function  \n",
    "Ram.set_age(19)   \n",
    "    \n",
    "# using the getter function  \n",
    "print(Ram.get_age())   \n",
    "    \n",
    "print(Ram._age)  "
   ]
  },
  {
   "cell_type": "markdown",
   "id": "a874e1f6",
   "metadata": {},
   "source": [
    "Q5.What is method overriding in python? Write a python code to demonstrate method overriding."
   ]
  },
  {
   "cell_type": "markdown",
   "id": "becb4721",
   "metadata": {},
   "source": [
    "    Method overriding is an ability of any object-oriented programming language that allows a subclass or child class to provide a specific implementation of a method that is already provided by one of its super-classes or parent classes. When a method in a subclass has the same name, same parameters or signature and same return type(or sub-type) as a method in its super-class, then the method in the subclass is said to override the method in the super-class."
   ]
  },
  {
   "cell_type": "code",
   "execution_count": null,
   "id": "3006982d",
   "metadata": {},
   "outputs": [],
   "source": [
    "# Python program to demonstrate \n",
    "# method overriding\n",
    "  \n",
    "  \n",
    "# Defining parent class\n",
    "class Parent():\n",
    "      \n",
    "    # Constructor\n",
    "    def __init__(self):\n",
    "        self.value = \"Inside Parent\"\n",
    "          \n",
    "    # Parent's show method\n",
    "    def show(self):\n",
    "        print(self.value)\n",
    "          \n",
    "# Defining child class\n",
    "class Child(Parent):\n",
    "      \n",
    "    # Constructor\n",
    "    def __init__(self):\n",
    "        self.value = \"Inside Child\"\n",
    "          \n",
    "    # Child's show method\n",
    "    def show(self):\n",
    "        print(self.value)\n",
    "          \n",
    "          \n",
    "# Driver's code\n",
    "obj1 = Parent()\n",
    "obj2 = Child()\n",
    "  \n",
    "obj1.show()\n",
    "obj2.show()\n",
    "Output:"
   ]
  }
 ],
 "metadata": {
  "kernelspec": {
   "display_name": "Python 3 (ipykernel)",
   "language": "python",
   "name": "python3"
  },
  "language_info": {
   "codemirror_mode": {
    "name": "ipython",
    "version": 3
   },
   "file_extension": ".py",
   "mimetype": "text/x-python",
   "name": "python",
   "nbconvert_exporter": "python",
   "pygments_lexer": "ipython3",
   "version": "3.9.13"
  }
 },
 "nbformat": 4,
 "nbformat_minor": 5
}
